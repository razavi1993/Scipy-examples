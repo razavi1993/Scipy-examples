{
 "cells": [
  {
   "cell_type": "code",
   "execution_count": 1,
   "id": "3af44bae-03f2-4a55-9efc-b708b26f9d0f",
   "metadata": {
    "execution": {
     "iopub.execute_input": "2024-09-02T17:56:11.306289Z",
     "iopub.status.busy": "2024-09-02T17:56:11.306289Z",
     "iopub.status.idle": "2024-09-02T17:56:11.537387Z",
     "shell.execute_reply": "2024-09-02T17:56:11.536358Z",
     "shell.execute_reply.started": "2024-09-02T17:56:11.306289Z"
    }
   },
   "outputs": [],
   "source": [
    "import numpy as np"
   ]
  },
  {
   "cell_type": "code",
   "execution_count": 2,
   "id": "9ad3d9ed-9d7a-4e2f-928c-5cf3acd9cc51",
   "metadata": {
    "execution": {
     "iopub.execute_input": "2024-09-02T17:56:11.544384Z",
     "iopub.status.busy": "2024-09-02T17:56:11.542411Z",
     "iopub.status.idle": "2024-09-02T17:56:11.582666Z",
     "shell.execute_reply": "2024-09-02T17:56:11.580636Z",
     "shell.execute_reply.started": "2024-09-02T17:56:11.544384Z"
    }
   },
   "outputs": [],
   "source": [
    "import scipy as sp"
   ]
  },
  {
   "cell_type": "code",
   "execution_count": 3,
   "id": "086d8684-ce27-458c-8c3d-646c6418abbe",
   "metadata": {
    "execution": {
     "iopub.execute_input": "2024-09-02T17:56:11.632932Z",
     "iopub.status.busy": "2024-09-02T17:56:11.631930Z",
     "iopub.status.idle": "2024-09-02T17:56:11.640492Z",
     "shell.execute_reply": "2024-09-02T17:56:11.638450Z",
     "shell.execute_reply.started": "2024-09-02T17:56:11.632932Z"
    }
   },
   "outputs": [],
   "source": [
    "def quad(x):\n",
    "    return x**3 - 2.0*x**2 + 5.0"
   ]
  },
  {
   "cell_type": "code",
   "execution_count": 4,
   "id": "f94cdc45-3a36-4071-9937-9f1ec3a51c74",
   "metadata": {
    "execution": {
     "iopub.execute_input": "2024-09-02T17:56:11.950856Z",
     "iopub.status.busy": "2024-09-02T17:56:11.949861Z",
     "iopub.status.idle": "2024-09-02T17:56:12.748810Z",
     "shell.execute_reply": "2024-09-02T17:56:12.747782Z",
     "shell.execute_reply.started": "2024-09-02T17:56:11.950856Z"
    }
   },
   "outputs": [],
   "source": [
    "res = sp.optimize.minimize(quad, 1000)"
   ]
  },
  {
   "cell_type": "code",
   "execution_count": 5,
   "id": "b7d8253c-8392-4bb1-845b-4b18563cb6a2",
   "metadata": {
    "execution": {
     "iopub.execute_input": "2024-09-02T17:56:12.753826Z",
     "iopub.status.busy": "2024-09-02T17:56:12.752827Z",
     "iopub.status.idle": "2024-09-02T17:56:12.774115Z",
     "shell.execute_reply": "2024-09-02T17:56:12.772098Z",
     "shell.execute_reply.started": "2024-09-02T17:56:12.752827Z"
    }
   },
   "outputs": [
    {
     "data": {
      "text/plain": [
       "array([1.33333333])"
      ]
     },
     "execution_count": 5,
     "metadata": {},
     "output_type": "execute_result"
    }
   ],
   "source": [
    "res.x"
   ]
  },
  {
   "cell_type": "code",
   "execution_count": 6,
   "id": "5589dcb7-4cc5-4670-b112-048119f130d6",
   "metadata": {
    "execution": {
     "iopub.execute_input": "2024-09-02T17:56:12.777115Z",
     "iopub.status.busy": "2024-09-02T17:56:12.776114Z",
     "iopub.status.idle": "2024-09-02T17:56:12.789147Z",
     "shell.execute_reply": "2024-09-02T17:56:12.787126Z",
     "shell.execute_reply.started": "2024-09-02T17:56:12.776114Z"
    }
   },
   "outputs": [
    {
     "data": {
      "text/plain": [
       "3.8148148148148144"
      ]
     },
     "execution_count": 6,
     "metadata": {},
     "output_type": "execute_result"
    }
   ],
   "source": [
    "res.fun"
   ]
  },
  {
   "cell_type": "code",
   "execution_count": 7,
   "id": "404322b0-fc8f-4d11-b0dc-0a6e795aac87",
   "metadata": {
    "execution": {
     "iopub.execute_input": "2024-09-02T17:56:12.795158Z",
     "iopub.status.busy": "2024-09-02T17:56:12.793146Z",
     "iopub.status.idle": "2024-09-02T17:56:12.807490Z",
     "shell.execute_reply": "2024-09-02T17:56:12.806472Z",
     "shell.execute_reply.started": "2024-09-02T17:56:12.795158Z"
    }
   },
   "outputs": [
    {
     "data": {
      "text/plain": [
       "array([ 9.24185409,  2.93381045,  4.50918401,  3.99624998,  5.11397574,\n",
       "       -1.12870605,  2.41360639,  2.85009185,  2.51779024,  9.14187958])"
      ]
     },
     "execution_count": 7,
     "metadata": {},
     "output_type": "execute_result"
    }
   ],
   "source": [
    "data = np.random.normal(5, 3, 10)\n",
    "data"
   ]
  },
  {
   "cell_type": "code",
   "execution_count": 8,
   "id": "46ddb8f6-d63c-4150-8c1f-df9c52394c06",
   "metadata": {
    "execution": {
     "iopub.execute_input": "2024-09-02T17:56:12.910719Z",
     "iopub.status.busy": "2024-09-02T17:56:12.909719Z",
     "iopub.status.idle": "2024-09-02T17:56:12.919814Z",
     "shell.execute_reply": "2024-09-02T17:56:12.918796Z",
     "shell.execute_reply.started": "2024-09-02T17:56:12.910719Z"
    }
   },
   "outputs": [
    {
     "data": {
      "text/plain": [
       "np.float64(4.15897362719599)"
      ]
     },
     "execution_count": 8,
     "metadata": {},
     "output_type": "execute_result"
    }
   ],
   "source": [
    "data.mean()"
   ]
  },
  {
   "cell_type": "code",
   "execution_count": 9,
   "id": "1382f509-2751-4724-872c-a72643b41e0b",
   "metadata": {
    "execution": {
     "iopub.execute_input": "2024-09-02T17:56:13.138591Z",
     "iopub.status.busy": "2024-09-02T17:56:13.137591Z",
     "iopub.status.idle": "2024-09-02T17:56:13.147810Z",
     "shell.execute_reply": "2024-09-02T17:56:13.146766Z",
     "shell.execute_reply.started": "2024-09-02T17:56:13.138591Z"
    }
   },
   "outputs": [
    {
     "data": {
      "text/plain": [
       "np.float64(2.9772424037692837)"
      ]
     },
     "execution_count": 9,
     "metadata": {},
     "output_type": "execute_result"
    }
   ],
   "source": [
    "data.std()"
   ]
  },
  {
   "cell_type": "code",
   "execution_count": 10,
   "id": "e7e935bd-4f7b-4293-a683-ea53819d3a78",
   "metadata": {
    "execution": {
     "iopub.execute_input": "2024-09-02T17:56:13.378220Z",
     "iopub.status.busy": "2024-09-02T17:56:13.376236Z",
     "iopub.status.idle": "2024-09-02T17:56:13.384292Z",
     "shell.execute_reply": "2024-09-02T17:56:13.383278Z",
     "shell.execute_reply.started": "2024-09-02T17:56:13.378220Z"
    }
   },
   "outputs": [],
   "source": [
    "x = np.array([1, 3, 2, 7, -5, -11, 5, 8, 3, -1])"
   ]
  },
  {
   "cell_type": "code",
   "execution_count": 11,
   "id": "9db40885-d3b2-4cab-b4c3-212f8771fbbe",
   "metadata": {
    "execution": {
     "iopub.execute_input": "2024-09-02T17:56:13.605129Z",
     "iopub.status.busy": "2024-09-02T17:56:13.604130Z",
     "iopub.status.idle": "2024-09-02T17:56:13.664419Z",
     "shell.execute_reply": "2024-09-02T17:56:13.662400Z",
     "shell.execute_reply.started": "2024-09-02T17:56:13.605129Z"
    }
   },
   "outputs": [],
   "source": [
    "y = sp.fftpack.fft(x)"
   ]
  },
  {
   "cell_type": "code",
   "execution_count": 12,
   "id": "8971fd27-a07d-4669-84f3-7eb1a14a2186",
   "metadata": {
    "execution": {
     "iopub.execute_input": "2024-09-02T17:56:13.860817Z",
     "iopub.status.busy": "2024-09-02T17:56:13.859801Z",
     "iopub.status.idle": "2024-09-02T17:56:13.871287Z",
     "shell.execute_reply": "2024-09-02T17:56:13.869265Z",
     "shell.execute_reply.started": "2024-09-02T17:56:13.860817Z"
    }
   },
   "outputs": [
    {
     "data": {
      "text/plain": [
       "array([ 12.         -0.j        ,  10.52786405 +5.42882455j,\n",
       "       -25.5623059 -13.31479123j,  19.47213595 +4.53076859j,\n",
       "        -5.4376941  -8.22899353j,   0.         -0.j        ,\n",
       "        -5.4376941  +8.22899353j,  19.47213595 -4.53076859j,\n",
       "       -25.5623059 +13.31479123j,  10.52786405 -5.42882455j])"
      ]
     },
     "execution_count": 12,
     "metadata": {},
     "output_type": "execute_result"
    }
   ],
   "source": [
    "y"
   ]
  },
  {
   "cell_type": "code",
   "execution_count": 13,
   "id": "d37b0a63-fcfa-4297-a867-44daeae61c35",
   "metadata": {
    "execution": {
     "iopub.execute_input": "2024-09-02T17:56:14.082205Z",
     "iopub.status.busy": "2024-09-02T17:56:14.081207Z",
     "iopub.status.idle": "2024-09-02T17:56:14.088955Z",
     "shell.execute_reply": "2024-09-02T17:56:14.087931Z",
     "shell.execute_reply.started": "2024-09-02T17:56:14.082205Z"
    }
   },
   "outputs": [],
   "source": [
    "a = np.array([[1, 6], [7, 11]])\n",
    "b = np.array([14, 23])"
   ]
  },
  {
   "cell_type": "code",
   "execution_count": 14,
   "id": "70195ed3-072d-4af1-b2c0-3eb5fa46524f",
   "metadata": {
    "execution": {
     "iopub.execute_input": "2024-09-02T17:56:14.325419Z",
     "iopub.status.busy": "2024-09-02T17:56:14.324418Z",
     "iopub.status.idle": "2024-09-02T17:56:14.334778Z",
     "shell.execute_reply": "2024-09-02T17:56:14.333749Z",
     "shell.execute_reply.started": "2024-09-02T17:56:14.325419Z"
    }
   },
   "outputs": [
    {
     "data": {
      "text/plain": [
       "array([-0.51612903,  2.41935484])"
      ]
     },
     "execution_count": 14,
     "metadata": {},
     "output_type": "execute_result"
    }
   ],
   "source": [
    "sp.linalg.solve(a, b)"
   ]
  },
  {
   "cell_type": "code",
   "execution_count": 15,
   "id": "e2024435-7ce3-4c12-8b1e-ad69351be97d",
   "metadata": {
    "execution": {
     "iopub.execute_input": "2024-09-02T17:56:14.563539Z",
     "iopub.status.busy": "2024-09-02T17:56:14.562565Z",
     "iopub.status.idle": "2024-09-02T17:56:14.569707Z",
     "shell.execute_reply": "2024-09-02T17:56:14.568688Z",
     "shell.execute_reply.started": "2024-09-02T17:56:14.562565Z"
    }
   },
   "outputs": [],
   "source": [
    "u = np.array([1,2,3,4,5,6])\n",
    "v = np.array([1,8,27,64,125,216])"
   ]
  },
  {
   "cell_type": "code",
   "execution_count": 16,
   "id": "926f70dc-df18-423a-a65b-d08be1d62669",
   "metadata": {
    "execution": {
     "iopub.execute_input": "2024-09-02T17:56:14.809236Z",
     "iopub.status.busy": "2024-09-02T17:56:14.808236Z",
     "iopub.status.idle": "2024-09-02T17:56:14.866526Z",
     "shell.execute_reply": "2024-09-02T17:56:14.864495Z",
     "shell.execute_reply.started": "2024-09-02T17:56:14.809236Z"
    }
   },
   "outputs": [],
   "source": [
    "f = sp.interpolate.interp1d(u, v)"
   ]
  },
  {
   "cell_type": "code",
   "execution_count": 17,
   "id": "28311b97-7932-458e-b126-3bbb92d29f32",
   "metadata": {
    "execution": {
     "iopub.execute_input": "2024-09-02T17:56:15.239165Z",
     "iopub.status.busy": "2024-09-02T17:56:15.238181Z",
     "iopub.status.idle": "2024-09-02T17:56:15.250235Z",
     "shell.execute_reply": "2024-09-02T17:56:15.249191Z",
     "shell.execute_reply.started": "2024-09-02T17:56:15.239165Z"
    }
   },
   "outputs": [
    {
     "data": {
      "text/plain": [
       "array(17.5)"
      ]
     },
     "execution_count": 17,
     "metadata": {},
     "output_type": "execute_result"
    }
   ],
   "source": [
    "f(2.5)"
   ]
  },
  {
   "cell_type": "code",
   "execution_count": 18,
   "id": "ac1cdcb7-451a-4fb4-b32e-bb8cf5d2f07d",
   "metadata": {
    "execution": {
     "iopub.execute_input": "2024-09-02T17:56:15.801398Z",
     "iopub.status.busy": "2024-09-02T17:56:15.800419Z",
     "iopub.status.idle": "2024-09-02T17:56:15.808093Z",
     "shell.execute_reply": "2024-09-02T17:56:15.807069Z",
     "shell.execute_reply.started": "2024-09-02T17:56:15.801398Z"
    }
   },
   "outputs": [],
   "source": [
    "mat = np.array([[0,1,0,0,0], [0,2,0,0,0], [0,0,0,0,-1], [0,0,3,0,0], [2,1,0,0,0]])"
   ]
  },
  {
   "cell_type": "code",
   "execution_count": 19,
   "id": "a5946eaf-b0d8-4cec-8a7d-007c45ab9ba7",
   "metadata": {
    "execution": {
     "iopub.execute_input": "2024-09-02T17:56:16.044873Z",
     "iopub.status.busy": "2024-09-02T17:56:16.043900Z",
     "iopub.status.idle": "2024-09-02T17:56:16.051913Z",
     "shell.execute_reply": "2024-09-02T17:56:16.050899Z",
     "shell.execute_reply.started": "2024-09-02T17:56:16.044873Z"
    }
   },
   "outputs": [],
   "source": [
    "sparse_mat = sp.sparse.csr_matrix(mat)"
   ]
  },
  {
   "cell_type": "code",
   "execution_count": 20,
   "id": "9ddf2434-14cc-467a-88ec-db92c86ac7a7",
   "metadata": {
    "execution": {
     "iopub.execute_input": "2024-09-02T17:56:16.361204Z",
     "iopub.status.busy": "2024-09-02T17:56:16.360230Z",
     "iopub.status.idle": "2024-09-02T17:56:16.370397Z",
     "shell.execute_reply": "2024-09-02T17:56:16.368372Z",
     "shell.execute_reply.started": "2024-09-02T17:56:16.361204Z"
    }
   },
   "outputs": [
    {
     "name": "stdout",
     "output_type": "stream",
     "text": [
      "<Compressed Sparse Row sparse matrix of dtype 'int64'\n",
      "\twith 6 stored elements and shape (5, 5)>\n",
      "  Coords\tValues\n",
      "  (0, 1)\t1\n",
      "  (1, 1)\t2\n",
      "  (2, 4)\t-1\n",
      "  (3, 2)\t3\n",
      "  (4, 0)\t2\n",
      "  (4, 1)\t1\n"
     ]
    }
   ],
   "source": [
    "print(sparse_mat)"
   ]
  },
  {
   "cell_type": "code",
   "execution_count": 21,
   "id": "8f3d6466-9e65-4acd-baaf-28a39a158fad",
   "metadata": {
    "execution": {
     "iopub.execute_input": "2024-09-02T17:56:17.016363Z",
     "iopub.status.busy": "2024-09-02T17:56:17.015364Z",
     "iopub.status.idle": "2024-09-02T17:56:17.036845Z",
     "shell.execute_reply": "2024-09-02T17:56:17.035820Z",
     "shell.execute_reply.started": "2024-09-02T17:56:17.016363Z"
    }
   },
   "outputs": [],
   "source": [
    "from scipy.cluster.vq import kmeans, vq"
   ]
  },
  {
   "cell_type": "code",
   "execution_count": 22,
   "id": "40fe320a-3086-4182-93b4-8624f81987cd",
   "metadata": {
    "execution": {
     "iopub.execute_input": "2024-09-02T17:56:17.426362Z",
     "iopub.status.busy": "2024-09-02T17:56:17.425362Z",
     "iopub.status.idle": "2024-09-02T17:56:17.433485Z",
     "shell.execute_reply": "2024-09-02T17:56:17.432467Z",
     "shell.execute_reply.started": "2024-09-02T17:56:17.426362Z"
    }
   },
   "outputs": [],
   "source": [
    "data = 5.0 + 3.0*np.random.rand(100,2)"
   ]
  },
  {
   "cell_type": "code",
   "execution_count": 23,
   "id": "1e03679b-f597-469d-b0aa-ee7df8e5e685",
   "metadata": {
    "execution": {
     "iopub.execute_input": "2024-09-02T17:56:17.897425Z",
     "iopub.status.busy": "2024-09-02T17:56:17.896425Z",
     "iopub.status.idle": "2024-09-02T17:56:17.940206Z",
     "shell.execute_reply": "2024-09-02T17:56:17.938177Z",
     "shell.execute_reply.started": "2024-09-02T17:56:17.897425Z"
    }
   },
   "outputs": [],
   "source": [
    "centroids, _ = kmeans(data, 5)"
   ]
  },
  {
   "cell_type": "code",
   "execution_count": 24,
   "id": "851b7732-2c46-42d5-9a83-91676b071ecb",
   "metadata": {
    "execution": {
     "iopub.execute_input": "2024-09-02T17:56:18.635146Z",
     "iopub.status.busy": "2024-09-02T17:56:18.634162Z",
     "iopub.status.idle": "2024-09-02T17:56:18.642678Z",
     "shell.execute_reply": "2024-09-02T17:56:18.640655Z",
     "shell.execute_reply.started": "2024-09-02T17:56:18.635146Z"
    }
   },
   "outputs": [],
   "source": [
    "idx, _ = vq(data, centroids)"
   ]
  },
  {
   "cell_type": "code",
   "execution_count": 25,
   "id": "741664ef-6508-4033-9744-9f27e72697e2",
   "metadata": {
    "execution": {
     "iopub.execute_input": "2024-09-02T17:56:19.399465Z",
     "iopub.status.busy": "2024-09-02T17:56:19.398465Z",
     "iopub.status.idle": "2024-09-02T17:56:19.407066Z",
     "shell.execute_reply": "2024-09-02T17:56:19.406045Z",
     "shell.execute_reply.started": "2024-09-02T17:56:19.399465Z"
    }
   },
   "outputs": [
    {
     "name": "stdout",
     "output_type": "stream",
     "text": [
      "[2 2 2 1 2 2 3 4 3 4 4 0 0 2 0 3 4 3 2 1 4 2 0 0 4 1 2 3 4 2 3 4 0 3 1 0 0\n",
      " 0 0 3 1 1 0 3 2 0 2 0 1 4 0 2 0 2 0 2 0 2 0 2 2 4 4 2 3 2 2 4 1 3 0 0 1 0\n",
      " 0 1 0 1 1 4 2 1 4 0 4 4 1 4 4 3 1 3 0 3 2 2 0 1 0 4]\n"
     ]
    }
   ],
   "source": [
    "print(idx)"
   ]
  },
  {
   "cell_type": "code",
   "execution_count": null,
   "id": "d9bce37c-73fc-4204-a1e8-1e4c64b87c3d",
   "metadata": {},
   "outputs": [],
   "source": []
  }
 ],
 "metadata": {
  "kernelspec": {
   "display_name": "Python 3 (ipykernel)",
   "language": "python",
   "name": "python3"
  },
  "language_info": {
   "codemirror_mode": {
    "name": "ipython",
    "version": 3
   },
   "file_extension": ".py",
   "mimetype": "text/x-python",
   "name": "python",
   "nbconvert_exporter": "python",
   "pygments_lexer": "ipython3",
   "version": "3.12.5"
  }
 },
 "nbformat": 4,
 "nbformat_minor": 5
}
